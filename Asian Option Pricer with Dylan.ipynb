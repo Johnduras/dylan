{
 "cells": [
  {
   "cell_type": "markdown",
   "metadata": {},
   "source": [
    "## Asian Option Pricer\n",
    "\n",
    "We have used the Python programming language to help us devise a model for pricing a European arithmetic Asian call option. If the Asian call option is positive, a pay between the asset price’s arithmetic average and the strike price at the expiry of the option. We collect the data from a series of asset prices which are then used to calculate the arithmetic average.\n",
    "\n",
    "AT = arithmetic average of asset price\n",
    "K = strike price\n",
    "T = maturity date or expiry\n",
    "Sti = asset price\n",
    "\n",
    "$$ A_T = \\frac{1}{N}\\sum_{i=1}^{N}S_{t_i} $$\n",
    "\n",
    "We will use the geometric average of the Asian option to price the Asian call option. While a geometric Asian call option does not exist in the market, there is a set formula for pricing it. Seeing that there is no formula to price the arithmetic Asian call option, the geometric Asian call option will be used as a way to pay the difference between the asset price’s geometric average and the strike price at expiry.\n",
    "GT = geometric average of asset price\n",
    "\n",
    "$$ G_T = \\bigg(\\prod_{i=1}^{N}S_{t_i}\\bigg)^{\\frac{1}{N}} $$"
   ]
  },
  {
   "cell_type": "markdown",
   "metadata": {},
   "source": [
    "Import necessary libraries"
   ]
  },
  {
   "cell_type": "code",
   "execution_count": 2,
   "metadata": {
    "collapsed": true
   },
   "outputs": [],
   "source": [
    "import matplotlib.pyplot as plt\n",
    "from scipy import stats\n",
    "from scipy.stats import norm\n",
    "import scipy\n",
    "import numpy as np"
   ]
  },
  {
   "cell_type": "markdown",
   "metadata": {},
   "source": [
    "###### The standard Black-Scholes \n",
    "$$ C = SN(d_1)-N(d_2)Ke^{-rt}$$\n",
    " \n",
    "$$ d_1 = \\frac{ln(S/K)+(r+\\frac{s^2}{2})t}{s\\sqrt{t}}$$\n",
    " \n",
    "$$ d_2 = d_1 - s\\sqrt{t}$$"
   ]
  },
  {
   "cell_type": "code",
   "execution_count": 4,
   "metadata": {
    "collapsed": false
   },
   "outputs": [],
   "source": [
    "def BlackScholes(spot, strike, rate, vol, div, expiry):\n",
    "    N = norm.cdf\n",
    "    d1 = (np.log(spot/strike) + (rate - div - 0.5 * vol * vol) * expiry) / (vol * np.sqrt(expiry))\n",
    "    d2 = d1 - vol * np.sqrt(expiry)\n",
    "    call_price = spot * np.exp(-div * expiry) * N(d1) -  strike * np.exp(-rate * expiry) * N(d2)\n",
    "    \n",
    "    return call_price"
   ]
  },
  {
   "cell_type": "markdown",
   "metadata": {},
   "source": [
    "The Geometric Asian Call uses the Standard Black-Scholes to price \"true geometric price,\" which in our model is *Gstar.*\n",
    "\n",
    "This works through a modification of the Black-Scholes function. \n",
    "\n",
    "$$C_{GA}=e^{-rt}\\big(e^{(a+\\frac{1}{2}b)}N(x)-KN(x-\\sqrt{b})\\big)$$\n",
    " \n",
    "Where,\n",
    "\n",
    "$$ a = ln(G_t) + \\frac{N-m}{N}\\bigg(ln(S)+v(t_{m+1}-t)+\\frac{1}{2}v(T-t_{m+1})\\bigg)$$\n",
    " \n",
    "$$ b = -1 $$\n",
    " \n",
    "$$ v = r-\\delta-\\frac{1}{2}\\sigma^2$$\n",
    " \n",
    "$$ x = \\frac{a-ln(K)+b}{\\sqrt{b}}$$"
   ]
  },
  {
   "cell_type": "code",
   "execution_count": 5,
   "metadata": {
    "collapsed": true
   },
   "outputs": [],
   "source": [
    "def GeometricAsianCall(spot, strike, rate, vol, div, expiry, num_steps):\n",
    "    dt = expiry/num_steps\n",
    "    nu = rate - div - 0.5 * vol * vol\n",
    "    a = num_steps * (num_steps - 1) + (2.0 * num_steps + 1.0) / 6.0\n",
    "    V = np.exp(-rate * expiry) * spot * np.exp(((num_steps + 1) * nu / 2.0 + vol * vol * a / (2.0 * num_steps * num_steps)) * dt)\n",
    "    vang = vol * np.sqrt(a) / (pow(num_steps, 1.5))\n",
    "    \n",
    "    price = BlackScholes(V, strike, rate, vang, 0, expiry)\n",
    "    \n",
    "    return price"
   ]
  },
  {
   "cell_type": "markdown",
   "metadata": {},
   "source": [
    "Call Payoff Function"
   ]
  },
  {
   "cell_type": "code",
   "execution_count": 6,
   "metadata": {
    "collapsed": true
   },
   "outputs": [],
   "source": [
    "def CallPayoff(spot, strike):\n",
    "    return np.maximum(spot - strike, 0.0)"
   ]
  },
  {
   "cell_type": "markdown",
   "metadata": {},
   "source": [
    "We enter the option parameters\n",
    "\n",
    "* spot = Option Spot Price\n",
    "* Strike = Option Strike Price\n",
    "* rate = 3 Month Libor Rate\n",
    "* vol = Volatility of Option\n",
    "* expiry = Option Expiration Date\n",
    "* num_reps = Number of Monte Carlo Simulations\n",
    "* num_steps = Number of \"Averaging Periods\" before expiration\n",
    "* b = beta, which is assumed to be -1"
   ]
  },
  {
   "cell_type": "code",
   "execution_count": 7,
   "metadata": {
    "collapsed": true
   },
   "outputs": [],
   "source": [
    "## Option parameters\n",
    "spot = 40\n",
    "strike = 40\n",
    "rate = 0.08\n",
    "vol = 0.3\n",
    "div = 0.0\n",
    "expiry = 0.24\n",
    "num_reps = 1000\n",
    "num_steps = 5\n",
    "b = -1.0"
   ]
  },
  {
   "cell_type": "markdown",
   "metadata": {},
   "source": [
    "Defining functions to be used in the Monte Carlo simulations\n",
    "\n",
    "* z = provides the random walk that simulates market volatility\n",
    "* drift and diffusion = are both used in the arithmetic Asian pricer used in the simulations\n",
    "* disc = discounting variable to get the present value of the Asian Option\n",
    "* Gstar = Calls the Geometric Asian Call function to get the \"true geometric value of the option.\"\n",
    "* spotT = Is a zero-filled matrix in created in preparation for Monte Carlo simulation\n",
    "* spotT[:,i] = Fills the first column of every row with the original spot price\n",
    "* A and G = Are zero-filled lists in preparation for Monte Carlo simulations"
   ]
  },
  {
   "cell_type": "code",
   "execution_count": 8,
   "metadata": {
    "collapsed": true
   },
   "outputs": [],
   "source": [
    "dt = expiry / num_steps\n",
    "z = np.random.normal(size=(num_reps, num_steps))\n",
    "drift = (rate - div - 0.5 * vol * vol) * dt\n",
    "diffusion = vol * np.sqrt(dt) \n",
    "disc = np.exp(-rate * expiry)\n",
    "\n",
    "Gstar = GeometricAsianCall(spot, strike, rate, vol, div, expiry, num_steps)\n",
    "spotT = np.zeros((num_reps, num_steps))\n",
    "spotT[:,0] = spot\n",
    "A = np.zeros(num_reps)\n",
    "G = np.zeros(num_reps)"
   ]
  },
  {
   "cell_type": "markdown",
   "metadata": {},
   "source": [
    "Stepping into the Monte Carlo Simulation\n",
    "* for i in range(num_reps) = is the function that runs each simulation 'num_reps' times\n",
    "* for j in range(num_steps) = is the function that runs each step (j) per simulation (i)\n",
    "* SpotT[i,j] = calculates the arithmetic Asian option price for every step in every simulation\n",
    "* A_mean = is the arithmetic mean of the arithmetic prices determined in each (i) simulation\n",
    "* G_mean = is the geometric mean of the arithmetic prices determined in each (i) simulation\n",
    "* A = is the arithmetic mean of all the arithmetic means generated in the (num_reps) simulations\n",
    "* G = is the arithmetic mean of all the geometric means generated in the (num_reps) simulations\n",
    "* call_price = is the present value of the adjusted arithmetic mean\n",
    "    * The \"adjustment\" is calculated by taking the difference between \"true geometric price\" Gstar and the mean of G calculated in the Monte Carlo simulations\n"
   ]
  },
  {
   "cell_type": "code",
   "execution_count": 9,
   "metadata": {
    "collapsed": true
   },
   "outputs": [],
   "source": [
    "for i in range(num_reps):\n",
    "    for j in range(1, num_steps):\n",
    "        spotT[i,j] = spotT[i,j-1] * np.exp(drift + diffusion * z[i,j])\n",
    "        \n",
    "    A_mean = spotT[i].mean()\n",
    "    G_mean = pow(spotT[i].prod(), 1/num_steps)\n",
    "    A[i] = CallPayoff(A_mean, strike)\n",
    "    G[i] = CallPayoff(G_mean, strike)"
   ]
  },
  {
   "cell_type": "code",
   "execution_count": 10,
   "metadata": {
    "collapsed": false
   },
   "outputs": [
    {
     "name": "stdout",
     "output_type": "stream",
     "text": [
      "Price: $1.47\n"
     ]
    }
   ],
   "source": [
    "call_price = disc * A.mean() + b * (Gstar - G.mean())\n",
    "\n",
    "#stan_dev = np.std(callT)\n",
    "#stan_err = scipy.stats.sem(callT)\n",
    "\n",
    "\n",
    "print(\"Price: ${0:0.2f}\".format(call_price))\n",
    "\n",
    "\n",
    "\n",
    "#plt.plot(A)\n",
    "#plt.axis([0,num_reps,0,20])\n",
    "#plt.show()\n"
   ]
  },
  {
   "cell_type": "code",
   "execution_count": null,
   "metadata": {
    "collapsed": true
   },
   "outputs": [],
   "source": []
  }
 ],
 "metadata": {
  "kernelspec": {
   "display_name": "Python [Root]",
   "language": "python",
   "name": "Python [Root]"
  },
  "language_info": {
   "codemirror_mode": {
    "name": "ipython",
    "version": 3
   },
   "file_extension": ".py",
   "mimetype": "text/x-python",
   "name": "python",
   "nbconvert_exporter": "python",
   "pygments_lexer": "ipython3",
   "version": "3.5.2"
  }
 },
 "nbformat": 4,
 "nbformat_minor": 0
}
