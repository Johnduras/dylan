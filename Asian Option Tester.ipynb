{
 "cells": [
  {
   "cell_type": "markdown",
   "metadata": {},
   "source": [
    "# Asian Option Tester"
   ]
  },
  {
   "cell_type": "code",
   "execution_count": 11,
   "metadata": {
    "collapsed": false
   },
   "outputs": [
    {
     "name": "stdout",
     "output_type": "stream",
     "text": [
      "Standard Error: 0.142\n",
      "The Asian option call price is 9.987\n"
     ]
    }
   ],
   "source": [
    "from dylan.payoff import VanillaPayoff, call_payoff, put_payoff\n",
    "from dylan.engine import MonteCarloPricingEngine, StratifiedMonteCarloPricer\n",
    "from dylan.marketdata import MarketData\n",
    "from dylan.option import Option\n",
    "\n",
    "def main():\n",
    "    spot = 48.0\n",
    "    strike = 40.0\n",
    "    rate = 0.08\n",
    "    volatility = 0.30\n",
    "    expiry = 1.0\n",
    "    reps = 10000\n",
    "    steps = 5\n",
    "    dividend = 0.0\n",
    "\n",
    "    the_call = VanillaPayoff(expiry, strike, call_payoff)\n",
    "    the_nmc = MonteCarloPricingEngine(reps, steps, StratifiedMonteCarloPricer)\n",
    "    the_data = MarketData(rate, spot, volatility, dividend)\n",
    "\n",
    "    the_option = Option(the_call, the_nmc, the_data)\n",
    "    fmt = \"The Asian option call price is {0:0.3f}\"\n",
    "    print(fmt.format(the_option.price()))\n",
    "\n",
    "\n",
    "if __name__ == \"__main__\":\n",
    "    main()\n"
   ]
  },
  {
   "cell_type": "markdown",
   "metadata": {},
   "source": [
    "# American Option Tester"
   ]
  },
  {
   "cell_type": "code",
   "execution_count": 14,
   "metadata": {
    "collapsed": false
   },
   "outputs": [
    {
     "name": "stdout",
     "output_type": "stream",
     "text": [
      "The American option price is 5.551\n"
     ]
    }
   ],
   "source": [
    "from dylan.payoff import VanillaPayoff, call_payoff, put_payoff\n",
    "from dylan.engine import BinomialPricingEngine, AmericanBinomialPricer\n",
    "from dylan.marketdata import MarketData\n",
    "from dylan.option import Option\n",
    "\n",
    "def main():\n",
    "    spot = 40.0\n",
    "    strike = 40.0\n",
    "    rate = 0.08\n",
    "    volatility = 0.3\n",
    "    expiry = 1.0\n",
    "    steps = 3\n",
    "    dividend = 0.0\n",
    "\n",
    "    the_call = VanillaPayoff(expiry, strike, call_payoff)\n",
    "    the_bopm = BinomialPricingEngine(steps, AmericanBinomialPricer)\n",
    "    the_data = MarketData(rate, spot, volatility, dividend)\n",
    "\n",
    "    the_option = Option(the_call, the_bopm, the_data)\n",
    "    fmt = \"The American option call price is {0:0.3f}\"\n",
    "    print(fmt.format(the_option.price()))\n",
    "\n",
    "\n",
    "if __name__ == \"__main__\":\n",
    "    main()\n"
   ]
  },
  {
   "cell_type": "code",
   "execution_count": null,
   "metadata": {
    "collapsed": true
   },
   "outputs": [],
   "source": []
  }
 ],
 "metadata": {
  "anaconda-cloud": {},
  "kernelspec": {
   "display_name": "Python [Root]",
   "language": "python",
   "name": "Python [Root]"
  },
  "language_info": {
   "codemirror_mode": {
    "name": "ipython",
    "version": 3
   },
   "file_extension": ".py",
   "mimetype": "text/x-python",
   "name": "python",
   "nbconvert_exporter": "python",
   "pygments_lexer": "ipython3",
   "version": "3.5.2"
  }
 },
 "nbformat": 4,
 "nbformat_minor": 0
}
